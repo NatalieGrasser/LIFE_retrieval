{
 "cells": [
  {
   "cell_type": "code",
   "execution_count": 1,
   "metadata": {},
   "outputs": [],
   "source": [
    "import getpass\n",
    "import os\n",
    "import numpy as np\n",
    "import sys\n",
    "import matplotlib.pyplot as plt\n",
    "os.environ['OMP_NUM_THREADS'] = '1' # to avoid using too many CPUs\n",
    "\n",
    "if getpass.getuser() == \"grasser\": # when running from LEM\n",
    "    os.environ['pRT_input_data_path'] =\"/net/lem/data2/pRT_input_data\"\n",
    "    from mpi4py import MPI \n",
    "    comm = MPI.COMM_WORLD # important for MPI\n",
    "    rank = comm.Get_rank() # important for MPI\n",
    "    import matplotlib\n",
    "    matplotlib.use('Agg') # disable interactive plotting\n",
    "    from LIFE_retrieval.target import Target\n",
    "    from LIFE_retrieval.retrieval import Retrieval\n",
    "    from LIFE_retrieval.parameters import Parameters\n",
    "elif getpass.getuser() == \"natalie\": # when testing from my laptop\n",
    "    os.environ['pRT_input_data_path'] = \"/home/natalie/.local/lib/python3.8/site-packages/petitRADTRANS/input_data_std/input_data\"\n",
    "    from target import Target\n",
    "    from retrieval import Retrieval\n",
    "    from parameters import Parameters\n",
    "\n",
    "target_object = 'Sorg1'\n",
    "Nlive=200 # number of live points (integer)\n",
    "evtol=0.5 # evidence tolerance (float)\n",
    "bayes=False\n",
    "\n",
    "def init_retrieval(obj,Nlive,evtol,PT_type='PTknot',chem='const'):\n",
    "\n",
    "    output=f'{obj}_N{Nlive}_e{evtol}' # output folder name\n",
    "    obj = Target(obj)\n",
    "\n",
    "    constant_params={'rv':0,\n",
    "                     'log_opa_base_gray': -10,  \n",
    "                    'log_P_base_gray': 3, # pressure of gray cloud deck\n",
    "                    'fsed_gray': 20} # add if needed\n",
    "    \n",
    "    free_params = {#'rv': ([0,20],r'$v_{\\rm rad}$'),\n",
    "                'log_g':([1,3],r'log $g$')}\n",
    "    \n",
    "    if PT_type=='PTknot':\n",
    "        pt_params={'T0' : ([100,1000], r'$T_0$'), # bottom of the atmosphere (hotter)\n",
    "                'T1' : ([0,1000], r'$T_1$'),\n",
    "                'T2' : ([0,1000], r'$T_2$'),\n",
    "                'T3' : ([0,1000], r'$T_3$'),\n",
    "                'T4' : ([0,1000], r'$T_4$'),\n",
    "                'T5' : ([0,1000], r'$T_5$'),\n",
    "                'T6' : ([0,1000], r'$T_6$')} # top of atmosphere (cooler)\n",
    "        free_params.update(pt_params)\n",
    "\n",
    "    if PT_type=='PTgrad':\n",
    "        pt_params={'dlnT_dlnP_0': ([-0.4,0.4], r'$\\nabla T_0$'), # gradient at T0 \n",
    "                'dlnT_dlnP_1': ([-0.4,0.4], r'$\\nabla T_1$'), \n",
    "                'dlnT_dlnP_2': ([-0.4,0.4], r'$\\nabla T_2$'), \n",
    "                'dlnT_dlnP_3': ([-0.4,0.4], r'$\\nabla T_3$'), \n",
    "                'dlnT_dlnP_4': ([-0.4,0.4], r'$\\nabla T_4$'), \n",
    "                'T0': ([100,1000], r'$T_0$')} # at bottom of atmosphere\n",
    "        free_params.update(pt_params)\n",
    "        \n",
    "    # free chemistry, define VMRs\n",
    "    chemistry={'log_H2O':([-12,-1],r'log H$_2$O'),\n",
    "                'log_CO':([-12,-1],r'log CO'),\n",
    "                'log_CO2':([-12,-1],r'log CO$_2$'),\n",
    "                'log_CH4':([-12,-1],r'log CH$_4$'),\n",
    "                'log_NH3':([-12,-3],r'log NH$_3$'),\n",
    "                'log_HCN':([-12,-3],r'log HCN'),\n",
    "                'log_H2S':([-12,-3],r'log H$_2$S'),\n",
    "                'log_C2H2':([-12,-3],r'log C$_2$H$_2$'),\n",
    "                'log_C2H4':([-12,-3],r'log C$_2$H$_4$'),\n",
    "                'log_C2H6':([-12,-3],r'log C$_2$H$_6$'),\n",
    "                'log_CH3Cl':([-12,-3],r'log CH$_3$Cl'),\n",
    "                'log_SO2':([-12,-3],r'log SO$_2$'),\n",
    "                'log_OCS':([-12,-3],r'log OCS'),\n",
    "                'log_CS2':([-12,-3],r'log CS$_2$'),\n",
    "                'log_DMS':([-12,-3],r'log DMS')}\n",
    "       \n",
    "    if chem=='var':\n",
    "        varchem={}\n",
    "        for key in chemistry.keys():\n",
    "            varchem[f'{key}_0']=chemistry[key]\n",
    "            varchem[f'{key}_1']=chemistry[key]\n",
    "            varchem[f'{key}_2']=chemistry[key]\n",
    "        chemistry=varchem\n",
    "\n",
    "    #cloud_props={'log_opa_base_gray': ([-10,3], r'log $\\kappa_{\\mathrm{cl},0}$'),  \n",
    "                #'log_P_base_gray': ([-6,3], r'log $P_{\\mathrm{cl},0}$'), # pressure of gray cloud deck\n",
    "                #'fsed_gray': ([0,20], r'$f_\\mathrm{sed}$')} # sedimentation parameter for particles\n",
    "    \n",
    "    #free_params.update(cloud_props)\n",
    "    free_params.update(chemistry)\n",
    "    parameters = Parameters(free_params, constant_params)\n",
    "    cube = np.random.rand(parameters.n_params)\n",
    "    parameters(cube)\n",
    "    retrieval=Retrieval(target=obj,parameters=parameters,output_name=output,\n",
    "                        N_live_points=Nlive,evidence_tolerance=evtol,PT_type=PT_type,chem=chem)\n",
    "\n",
    "    return retrieval\n",
    "\n",
    "retrieval=init_retrieval(target_object,Nlive,evtol,PT_type='PTknot',chem='var')\n",
    "#retrieval.PMN_lnL()\n",
    "#retrieval.run_retrieval(bayes=bayes)\n",
    "#retrieval.evaluate(makefigs=False)\n"
   ]
  },
  {
   "cell_type": "code",
   "execution_count": 2,
   "metadata": {},
   "outputs": [
    {
     "data": {
      "text/plain": [
       "[<matplotlib.lines.Line2D at 0x7f6d1687d280>]"
      ]
     },
     "execution_count": 2,
     "metadata": {},
     "output_type": "execute_result"
    },
    {
     "data": {
      "image/png": "[encoded data removed]",
      "text/plain": [
       "<Figure size 432x288 with 1 Axes>"
      ]
     },
     "metadata": {
      "needs_background": "light"
     },
     "output_type": "display_data"
    }
   ],
   "source": [
    "from pRT_model import pRT_spectrum\n",
    "import matplotlib.pyplot as plt\n",
    "model_object=pRT_spectrum(retrieval)\n",
    "model_flux=model_object.make_spectrum()\n",
    "plt.plot(model_flux)"
   ]
  },
  {
   "cell_type": "code",
   "execution_count": null,
   "metadata": {},
   "outputs": [
    {
     "name": "stdout",
     "output_type": "stream",
     "text": [
      "\n",
      " ------ Sorg1 - Nlive: 200 - ev: 0.5 ------- \n",
      "\n",
      "\n",
      " ----------------- Starting main retrieval. ----------------- \n",
      "\n"
     ]
    }
   ],
   "source": [
    "retrieval.run_retrieval()"
   ]
  },
  {
   "cell_type": "code",
   "execution_count": 2,
   "metadata": {},
   "outputs": [
    {
     "ename": "KeyError",
     "evalue": "'OH'",
     "output_type": "error",
     "traceback": [
      "\u001b[0;31m---------------------------------------------------------------------------\u001b[0m",
      "\u001b[0;31mKeyError\u001b[0m                                  Traceback (most recent call last)",
      "\u001b[0;32m<ipython-input-2-1fec58741ac3>\u001b[0m in \u001b[0;36m<module>\u001b[0;34m\u001b[0m\n\u001b[1;32m      1\u001b[0m \u001b[0;32mfrom\u001b[0m \u001b[0mpRT_model\u001b[0m \u001b[0;32mimport\u001b[0m \u001b[0mpRT_spectrum\u001b[0m\u001b[0;34m\u001b[0m\u001b[0;34m\u001b[0m\u001b[0m\n\u001b[1;32m      2\u001b[0m \u001b[0;32mimport\u001b[0m \u001b[0mmatplotlib\u001b[0m\u001b[0;34m.\u001b[0m\u001b[0mpyplot\u001b[0m \u001b[0;32mas\u001b[0m \u001b[0mplt\u001b[0m\u001b[0;34m\u001b[0m\u001b[0;34m\u001b[0m\u001b[0m\n\u001b[0;32m----> 3\u001b[0;31m \u001b[0mmodel_object\u001b[0m\u001b[0;34m=\u001b[0m\u001b[0mpRT_spectrum\u001b[0m\u001b[0;34m(\u001b[0m\u001b[0mretrieval\u001b[0m\u001b[0;34m)\u001b[0m\u001b[0;34m\u001b[0m\u001b[0;34m\u001b[0m\u001b[0m\n\u001b[0m\u001b[1;32m      4\u001b[0m \u001b[0mmodel_flux\u001b[0m\u001b[0;34m=\u001b[0m\u001b[0mmodel_object\u001b[0m\u001b[0;34m.\u001b[0m\u001b[0mmake_spectrum\u001b[0m\u001b[0;34m(\u001b[0m\u001b[0;34m)\u001b[0m\u001b[0;34m\u001b[0m\u001b[0;34m\u001b[0m\u001b[0m\n\u001b[1;32m      5\u001b[0m \u001b[0mplt\u001b[0m\u001b[0;34m.\u001b[0m\u001b[0mplot\u001b[0m\u001b[0;34m(\u001b[0m\u001b[0mmodel_flux\u001b[0m\u001b[0;34m)\u001b[0m\u001b[0;34m\u001b[0m\u001b[0;34m\u001b[0m\u001b[0m\n",
      "\u001b[0;32m~/Desktop/files/uni/PhD/LIFE/LIFE_retrieval/LIFE_retrieval/pRT_model.py\u001b[0m in \u001b[0;36m__init__\u001b[0;34m(self, retrieval_object, spectral_resolution, contribution)\u001b[0m\n\u001b[1;32m     41\u001b[0m             \u001b[0mself\u001b[0m\u001b[0;34m.\u001b[0m\u001b[0mMMW\u001b[0m \u001b[0;34m=\u001b[0m \u001b[0mself\u001b[0m\u001b[0;34m.\u001b[0m\u001b[0mmass_fractions\u001b[0m\u001b[0;34m[\u001b[0m\u001b[0;34m'MMW'\u001b[0m\u001b[0;34m]\u001b[0m\u001b[0;34m\u001b[0m\u001b[0;34m\u001b[0m\u001b[0m\n\u001b[1;32m     42\u001b[0m         \u001b[0;32melif\u001b[0m \u001b[0mretrieval_object\u001b[0m\u001b[0;34m.\u001b[0m\u001b[0mchem\u001b[0m\u001b[0;34m==\u001b[0m\u001b[0;34m'var'\u001b[0m\u001b[0;34m:\u001b[0m\u001b[0;34m\u001b[0m\u001b[0;34m\u001b[0m\u001b[0m\n\u001b[0;32m---> 43\u001b[0;31m             \u001b[0mself\u001b[0m\u001b[0;34m.\u001b[0m\u001b[0mmass_fractions\u001b[0m\u001b[0;34m,\u001b[0m \u001b[0mself\u001b[0m\u001b[0;34m.\u001b[0m\u001b[0mCO\u001b[0m\u001b[0;34m,\u001b[0m \u001b[0mself\u001b[0m\u001b[0;34m.\u001b[0m\u001b[0mFeH\u001b[0m \u001b[0;34m=\u001b[0m \u001b[0mself\u001b[0m\u001b[0;34m.\u001b[0m\u001b[0mvar_chemistry\u001b[0m\u001b[0;34m(\u001b[0m\u001b[0mself\u001b[0m\u001b[0;34m.\u001b[0m\u001b[0mspecies_pRT\u001b[0m\u001b[0;34m,\u001b[0m\u001b[0mself\u001b[0m\u001b[0;34m.\u001b[0m\u001b[0mparams\u001b[0m\u001b[0;34m)\u001b[0m\u001b[0;34m\u001b[0m\u001b[0;34m\u001b[0m\u001b[0m\n\u001b[0m\u001b[1;32m     44\u001b[0m             \u001b[0mself\u001b[0m\u001b[0;34m.\u001b[0m\u001b[0mMMW\u001b[0m \u001b[0;34m=\u001b[0m \u001b[0mself\u001b[0m\u001b[0;34m.\u001b[0m\u001b[0mmass_fractions\u001b[0m\u001b[0;34m[\u001b[0m\u001b[0;34m'MMW'\u001b[0m\u001b[0;34m]\u001b[0m\u001b[0;34m\u001b[0m\u001b[0;34m\u001b[0m\u001b[0m\n\u001b[1;32m     45\u001b[0m             \u001b[0mself\u001b[0m\u001b[0;34m.\u001b[0m\u001b[0mVMRs\u001b[0m \u001b[0;34m=\u001b[0m \u001b[0mself\u001b[0m\u001b[0;34m.\u001b[0m\u001b[0mget_VMRs\u001b[0m\u001b[0;34m(\u001b[0m\u001b[0mself\u001b[0m\u001b[0;34m.\u001b[0m\u001b[0mmass_fractions\u001b[0m\u001b[0;34m)\u001b[0m\u001b[0;34m\u001b[0m\u001b[0;34m\u001b[0m\u001b[0m\n",
      "\u001b[0;32m~/Desktop/files/uni/PhD/LIFE/LIFE_retrieval/LIFE_retrieval/pRT_model.py\u001b[0m in \u001b[0;36mvar_chemistry\u001b[0;34m(self, line_species, params)\u001b[0m\n\u001b[1;32m    143\u001b[0m             \u001b[0mline_species_i\u001b[0m \u001b[0;34m=\u001b[0m \u001b[0mself\u001b[0m\u001b[0;34m.\u001b[0m\u001b[0mread_species_info\u001b[0m\u001b[0;34m(\u001b[0m\u001b[0mspecies_i\u001b[0m\u001b[0;34m,\u001b[0m\u001b[0;34m'pRT_name'\u001b[0m\u001b[0;34m)\u001b[0m\u001b[0;34m\u001b[0m\u001b[0;34m\u001b[0m\u001b[0m\n\u001b[1;32m    144\u001b[0m             \u001b[0mmass_i\u001b[0m \u001b[0;34m=\u001b[0m \u001b[0mself\u001b[0m\u001b[0;34m.\u001b[0m\u001b[0mread_species_info\u001b[0m\u001b[0;34m(\u001b[0m\u001b[0mspecies_i\u001b[0m\u001b[0;34m,\u001b[0m \u001b[0;34m'mass'\u001b[0m\u001b[0;34m)\u001b[0m\u001b[0;34m\u001b[0m\u001b[0;34m\u001b[0m\u001b[0m\n\u001b[0;32m--> 145\u001b[0;31m             \u001b[0mvmrs3\u001b[0m \u001b[0;34m=\u001b[0m \u001b[0;34m[\u001b[0m\u001b[0mVMRs_list\u001b[0m\u001b[0;34m[\u001b[0m\u001b[0;36m0\u001b[0m\u001b[0;34m]\u001b[0m\u001b[0;34m[\u001b[0m\u001b[0mline_species_i\u001b[0m\u001b[0;34m]\u001b[0m\u001b[0;34m,\u001b[0m\u001b[0mVMRs_list\u001b[0m\u001b[0;34m[\u001b[0m\u001b[0;36m1\u001b[0m\u001b[0;34m]\u001b[0m\u001b[0;34m[\u001b[0m\u001b[0mline_species_i\u001b[0m\u001b[0;34m]\u001b[0m\u001b[0;34m,\u001b[0m\u001b[0mVMRs_list\u001b[0m\u001b[0;34m[\u001b[0m\u001b[0;36m2\u001b[0m\u001b[0;34m]\u001b[0m\u001b[0;34m[\u001b[0m\u001b[0mline_species_i\u001b[0m\u001b[0;34m]\u001b[0m\u001b[0;34m]\u001b[0m\u001b[0;34m\u001b[0m\u001b[0;34m\u001b[0m\u001b[0m\n\u001b[0m\u001b[1;32m    146\u001b[0m             \u001b[0mlog_P_knots\u001b[0m\u001b[0;34m=\u001b[0m \u001b[0mnp\u001b[0m\u001b[0;34m.\u001b[0m\u001b[0mlinspace\u001b[0m\u001b[0;34m(\u001b[0m\u001b[0mnp\u001b[0m\u001b[0;34m.\u001b[0m\u001b[0mlog10\u001b[0m\u001b[0;34m(\u001b[0m\u001b[0mnp\u001b[0m\u001b[0;34m.\u001b[0m\u001b[0mmin\u001b[0m\u001b[0;34m(\u001b[0m\u001b[0mself\u001b[0m\u001b[0;34m.\u001b[0m\u001b[0mpressure\u001b[0m\u001b[0;34m)\u001b[0m\u001b[0;34m)\u001b[0m\u001b[0;34m,\u001b[0m\u001b[0mnp\u001b[0m\u001b[0;34m.\u001b[0m\u001b[0mlog10\u001b[0m\u001b[0;34m(\u001b[0m\u001b[0mnp\u001b[0m\u001b[0;34m.\u001b[0m\u001b[0mmax\u001b[0m\u001b[0;34m(\u001b[0m\u001b[0mself\u001b[0m\u001b[0;34m.\u001b[0m\u001b[0mpressure\u001b[0m\u001b[0;34m)\u001b[0m\u001b[0;34m)\u001b[0m\u001b[0;34m,\u001b[0m\u001b[0mnum\u001b[0m\u001b[0;34m=\u001b[0m\u001b[0;36m3\u001b[0m\u001b[0;34m)\u001b[0m\u001b[0;34m\u001b[0m\u001b[0;34m\u001b[0m\u001b[0m\n\u001b[1;32m    147\u001b[0m             \u001b[0;31m# use linear interpolation to avoid going into negative values cubic spline did that)\u001b[0m\u001b[0;34m\u001b[0m\u001b[0;34m\u001b[0m\u001b[0;34m\u001b[0m\u001b[0m\n",
      "\u001b[0;31mKeyError\u001b[0m: 'OH'"
     ]
    }
   ],
   "source": [
    "from pRT_model import pRT_spectrum\n",
    "import matplotlib.pyplot as plt\n",
    "model_object=pRT_spectrum(retrieval)\n",
    "model_flux=model_object.make_spectrum()\n",
    "plt.plot(model_flux)"
   ]
  },
  {
   "cell_type": "code",
   "execution_count": 3,
   "metadata": {},
   "outputs": [
    {
     "data": {
      "text/plain": [
       "array([1., 1., 1., 1., 1., 1., 1., 1., 1., 1., 1., 1., 1., 1., 1., 1., 1.,\n",
       "       1., 1., 1., 1., 1., 1., 1., 1., 1., 1., 1., 1., 1., 1., 1., 1., 1.,\n",
       "       1., 1., 1., 1., 1., 1., 1., 1., 1., 1., 1., 1., 1., 1., 1., 1.])"
      ]
     },
     "execution_count": 3,
     "metadata": {},
     "output_type": "execute_result"
    }
   ],
   "source": [
    "layers = np.empty(50)\n",
    "for l in range(50):\n",
    "    mf=0\n",
    "    for key in model_object.mass_fractions.keys():\n",
    "        if key!='MMW':\n",
    "            #print(key,model_object.mass_fractions[key][l])\n",
    "            mf+=model_object.mass_fractions[key][l]\n",
    "    layers[l]=mf\n",
    "layers"
   ]
  },
  {
   "cell_type": "code",
   "execution_count": 7,
   "metadata": {},
   "outputs": [
    {
     "data": {
      "text/plain": [
       "16.754565678940192"
      ]
     },
     "execution_count": 7,
     "metadata": {},
     "output_type": "execute_result"
    }
   ],
   "source": [
    "model_object.CO"
   ]
  },
  {
   "cell_type": "code",
   "execution_count": 12,
   "metadata": {},
   "outputs": [
    {
     "data": {
      "text/plain": [
       "{'CO_12_HITEMP': array([4.49206805e-08, 4.08229964e-08, 3.70991048e-08, 3.37149083e-08,\n",
       "        3.06394196e-08, 2.78444784e-08, 2.53044929e-08, 2.29962060e-08,\n",
       "        2.08984820e-08, 1.89921134e-08, 1.72596445e-08, 1.56852122e-08,\n",
       "        1.42544003e-08, 1.29541077e-08, 1.17724283e-08, 1.06985422e-08,\n",
       "        9.72261655e-09, 8.83571522e-09, 8.02971742e-09, 7.29724308e-09,\n",
       "        6.63158538e-09, 6.02664927e-09, 5.47689569e-09, 4.97729087e-09,\n",
       "        4.52326022e-09, 4.45758764e-09, 4.76362948e-09, 5.09068304e-09,\n",
       "        5.44019091e-09, 5.81369473e-09, 6.21284198e-09, 6.63939322e-09,\n",
       "        7.09522993e-09, 7.58236274e-09, 8.10294033e-09, 8.65925888e-09,\n",
       "        9.25377226e-09, 9.88910277e-09, 1.05680528e-08, 1.12936170e-08,\n",
       "        1.20689959e-08, 1.28976095e-08, 1.37831127e-08, 1.47294113e-08,\n",
       "        1.57406794e-08, 1.68213775e-08, 1.79762724e-08, 1.92104582e-08,\n",
       "        2.05293787e-08, 2.19388516e-08]),\n",
       " 'H2O_Exomol': array([5.71929601e-02, 2.70785791e-02, 1.28206242e-02, 6.07005278e-03,\n",
       "        2.87392721e-03, 1.36068959e-03, 6.44232099e-04, 3.05018132e-04,\n",
       "        1.44413886e-04, 6.83741991e-05, 3.23724486e-05, 1.53270596e-05,\n",
       "        7.25674972e-06, 3.43578075e-06, 1.62670477e-06, 7.70179646e-07,\n",
       "        3.64649258e-07, 1.72646839e-07, 8.17413733e-08, 3.87012709e-08,\n",
       "        1.83235039e-08, 8.67544623e-09, 4.10747681e-09, 1.94472599e-09,\n",
       "        9.20749973e-10, 7.89025064e-10, 1.22378654e-09, 1.89810635e-09,\n",
       "        2.94398379e-09, 4.56615118e-09, 7.08215061e-09, 1.09844933e-08,\n",
       "        1.70370698e-08, 2.64246822e-08, 4.09849722e-08, 6.35681419e-08,\n",
       "        9.85948859e-08, 1.52921750e-07, 2.37183314e-07, 3.67873923e-07,\n",
       "        5.70576494e-07, 8.84970405e-07, 1.37259881e-06, 2.12891583e-06,\n",
       "        3.30197182e-06, 5.12139455e-06, 7.94333916e-06, 1.23202062e-05,\n",
       "        1.91087751e-05, 2.96379200e-05]),\n",
       " 'CH4': array([3.56322072e-09, 3.37910144e-09, 3.20449599e-09, 3.03891279e-09,\n",
       "        2.88188562e-09, 2.73297239e-09, 2.59175382e-09, 2.45783233e-09,\n",
       "        2.33083084e-09, 2.21039179e-09, 2.09617609e-09, 1.98786216e-09,\n",
       "        1.88514504e-09, 1.78773554e-09, 1.69535940e-09, 1.60775653e-09,\n",
       "        1.52468029e-09, 1.44589678e-09, 1.37118418e-09, 1.30033214e-09,\n",
       "        1.23314118e-09, 1.16942212e-09, 1.10899556e-09, 1.05169137e-09,\n",
       "        9.97348216e-10, 9.50676098e-10, 9.10847331e-10, 8.72687199e-10,\n",
       "        8.36125793e-10, 8.01096135e-10, 7.67534051e-10, 7.35378057e-10,\n",
       "        7.04569246e-10, 6.75051175e-10, 6.46769771e-10, 6.19673221e-10,\n",
       "        5.93711887e-10, 5.68838208e-10, 5.45006616e-10, 5.22173455e-10,\n",
       "        5.00296893e-10, 4.79336854e-10, 4.59254940e-10, 4.40014362e-10,\n",
       "        4.21579871e-10, 4.03917698e-10, 3.86995485e-10, 3.70782231e-10,\n",
       "        3.55248235e-10, 3.40365038e-10]),\n",
       " 'NH3': array([2.37661959e-08, 2.98196537e-08, 3.74149801e-08, 4.69449025e-08,\n",
       "        5.89021794e-08, 7.39050793e-08, 9.27293489e-08, 1.16348324e-07,\n",
       "        1.45983259e-07, 1.83166471e-07, 2.29820572e-07, 2.88357880e-07,\n",
       "        3.61805153e-07, 4.53960087e-07, 5.69587688e-07, 7.14666650e-07,\n",
       "        8.96698491e-07, 1.12509543e-06, 1.41166707e-06, 1.77123101e-06,\n",
       "        2.22237903e-06, 2.78843839e-06, 3.49867802e-06, 4.38982188e-06,\n",
       "        5.50794788e-06, 5.61195666e-06, 4.64323173e-06, 3.84172619e-06,\n",
       "        3.17857496e-06, 2.62989560e-06, 2.17592819e-06, 1.80032374e-06,\n",
       "        1.48955539e-06, 1.23243127e-06, 1.01969140e-06, 8.43674278e-07,\n",
       "        6.98040882e-07, 5.77546437e-07, 4.77851506e-07, 3.95365718e-07,\n",
       "        3.27118464e-07, 2.70651918e-07, 2.23932515e-07, 1.85277725e-07,\n",
       "        1.53295448e-07, 1.26833889e-07, 1.04940072e-07, 8.68255231e-08,\n",
       "        7.18378719e-08, 5.94373596e-08]),\n",
       " 'HCN': array([1.09429621e-05, 7.26880537e-06, 4.82826597e-06, 3.20715044e-06,\n",
       "        2.13033291e-06, 1.41506250e-06, 9.39947872e-07, 6.24355461e-07,\n",
       "        4.14724851e-07, 2.75478815e-07, 1.82985363e-07, 1.21547071e-07,\n",
       "        8.07370065e-08, 5.36291346e-08, 3.56228723e-08, 2.36623068e-08,\n",
       "        1.57175636e-08, 1.04403095e-08, 6.93492099e-09, 4.60648502e-09,\n",
       "        3.05983360e-09, 2.03247847e-09, 1.35006320e-09, 8.96772426e-10,\n",
       "        5.95676397e-10, 4.81734969e-10, 4.74324533e-10, 4.67028091e-10,\n",
       "        4.59843889e-10, 4.52770200e-10, 4.45805324e-10, 4.38947587e-10,\n",
       "        4.32195342e-10, 4.25546965e-10, 4.19000859e-10, 4.12555450e-10,\n",
       "        4.06209190e-10, 3.99960553e-10, 3.93808037e-10, 3.87750165e-10,\n",
       "        3.81785480e-10, 3.75912548e-10, 3.70129958e-10, 3.64436321e-10,\n",
       "        3.58830268e-10, 3.53310452e-10, 3.47875546e-10, 3.42524244e-10,\n",
       "        3.37255260e-10, 3.32067328e-10]),\n",
       " 'CO2': array([1.53735567e-05, 9.08463568e-06, 5.36834821e-06, 3.17229700e-06,\n",
       "        1.87459305e-06, 1.10774594e-06, 6.54595970e-07, 3.86817835e-07,\n",
       "        2.28580749e-07, 1.35074328e-07, 7.98189438e-08, 4.71670961e-08,\n",
       "        2.78722675e-08, 1.64704500e-08, 9.73281854e-09, 5.75137637e-09,\n",
       "        3.39863833e-09, 2.00834405e-09, 1.18678289e-09, 7.01300968e-10,\n",
       "        4.14417036e-10, 2.44889837e-10, 1.44711793e-10, 8.55139736e-11,\n",
       "        5.05324378e-11, 4.94686704e-11, 8.02263534e-11, 1.30107960e-10,\n",
       "        2.11003996e-10, 3.42198022e-10, 5.54963357e-10, 9.00017849e-10,\n",
       "        1.45961372e-09, 2.36714440e-09, 3.83894212e-09, 6.22584607e-09,\n",
       "        1.00968335e-08, 1.63746493e-08, 2.65557653e-08, 4.30671006e-08,\n",
       "        6.98445380e-08, 1.13271138e-07, 1.83698698e-07, 2.97915357e-07,\n",
       "        4.83147465e-07, 7.83549648e-07, 1.27073015e-06, 2.06082041e-06,\n",
       "        3.34215788e-06, 5.42018083e-06]),\n",
       " 'C2H2': array([9.60567251e-04, 4.53272725e-04, 2.13890452e-04, 1.00930682e-04,\n",
       "        4.76271967e-05, 2.24743340e-05, 1.06051946e-05, 5.00438199e-06,\n",
       "        2.36146908e-06, 1.11433065e-06, 5.25830636e-07, 2.48129098e-07,\n",
       "        1.17087223e-07, 5.52511495e-08, 2.60719269e-08, 1.23028277e-08,\n",
       "        5.80546152e-09, 2.73948270e-09, 1.29270781e-09, 6.10003299e-10,\n",
       "        2.87848516e-10, 1.35830033e-10, 6.40955114e-11, 3.02454066e-11,\n",
       "        1.42722104e-11, 1.19434583e-11, 1.77245820e-11, 2.63040067e-11,\n",
       "        3.90362248e-11, 5.79313588e-11, 8.59725127e-11, 1.27586735e-10,\n",
       "        1.89343948e-10, 2.80994186e-10, 4.17006898e-10, 6.18855341e-10,\n",
       "        9.18406710e-10, 1.36295323e-09, 2.02267850e-09, 3.00173786e-09,\n",
       "        4.45470210e-09, 6.61096064e-09, 9.81093676e-09, 1.45598326e-08,\n",
       "        2.16073888e-08, 3.20662512e-08, 4.75876321e-08, 7.06219980e-08,\n",
       "        1.04805942e-07, 1.55536316e-07]),\n",
       " 'H2S': array([3.23899143e-07, 2.16790893e-07, 1.45101623e-07, 9.71188445e-08,\n",
       "        6.50032009e-08, 4.35076853e-08, 2.91203918e-08, 1.94907455e-08,\n",
       "        1.30454687e-08, 8.73154149e-09, 5.84416081e-09, 3.91159060e-09,\n",
       "        2.61809035e-09, 1.75232988e-09, 1.17286250e-09, 7.85015691e-10,\n",
       "        5.25423597e-10, 3.51674444e-10, 2.35381348e-10, 1.57544513e-10,\n",
       "        1.05447070e-10, 7.05774159e-11, 4.72385968e-11, 3.16175508e-11,\n",
       "        2.11621340e-11, 2.28242682e-11, 3.96680111e-11, 6.89420180e-11,\n",
       "        1.19819515e-10, 2.08243340e-10, 3.61921753e-10, 6.29011016e-10,\n",
       "        1.09320552e-09, 1.89996404e-09, 3.30209031e-09, 5.73895094e-09,\n",
       "        9.97415418e-09, 1.73348322e-08, 3.01275078e-08, 5.23608602e-08,\n",
       "        9.10018744e-08, 1.58158997e-07, 2.74876409e-07, 4.77728370e-07,\n",
       "        8.30280041e-07, 1.44300609e-06, 2.50790874e-06, 4.35868309e-06,\n",
       "        7.57528294e-06, 1.31656536e-05]),\n",
       " 'CH3Cl': array([2.56761433e-01, 1.08942723e-01, 4.62239077e-02, 1.96125964e-02,\n",
       "        8.32153651e-03, 3.53079056e-03, 1.49809857e-03, 6.35636492e-04,\n",
       "        2.69697708e-04, 1.14431526e-04, 4.85527822e-05, 2.06007273e-05,\n",
       "        8.74079606e-06, 3.70868049e-06, 1.57357647e-06, 6.67661427e-07,\n",
       "        2.83285744e-07, 1.20196868e-07, 5.09989912e-08, 2.16386428e-08,\n",
       "        9.18117893e-09, 3.89553297e-09, 1.65285714e-09, 7.01299857e-10,\n",
       "        2.97558378e-10, 2.97518830e-10, 7.01020269e-10, 1.65175904e-09,\n",
       "        3.89191018e-09, 9.17020248e-09, 2.16070284e-08, 5.09109450e-08,\n",
       "        1.19957464e-07, 2.82646357e-07, 6.65977427e-07, 1.56919034e-06,\n",
       "        3.69736004e-06, 8.71179926e-06, 2.05269288e-05, 4.83659913e-05,\n",
       "        1.13960989e-04, 2.68517334e-04, 6.32686319e-04, 1.49074912e-03,\n",
       "        3.51253513e-03, 8.27631085e-03, 1.95008217e-02, 4.59482555e-02,\n",
       "        1.08264268e-01, 2.55094597e-01]),\n",
       " 'SO2': array([1.07362013e-03, 8.48987702e-04, 6.71354886e-04, 5.30887999e-04,\n",
       "        4.19810854e-04, 3.31974264e-04, 2.62515633e-04, 2.07589760e-04,\n",
       "        1.64155970e-04, 1.29809786e-04, 1.02649819e-04, 8.11725042e-05,\n",
       "        6.41888654e-05, 5.07586957e-05, 4.01385064e-05, 3.17403684e-05,\n",
       "        2.50993640e-05, 1.98478501e-05, 1.56951050e-05, 1.24112345e-05,\n",
       "        9.81444477e-06, 7.76097867e-06, 6.13715715e-06, 4.85308613e-06,\n",
       "        3.83767995e-06, 3.51383203e-06, 3.72524404e-06, 3.94937580e-06,\n",
       "        4.18699260e-06, 4.43890576e-06, 4.70597545e-06, 4.98911356e-06,\n",
       "        5.28928686e-06, 5.60752028e-06, 5.94490043e-06, 6.30257928e-06,\n",
       "        6.68177811e-06, 7.08379169e-06, 7.50999268e-06, 7.96183633e-06,\n",
       "        8.44086545e-06, 8.94871568e-06, 9.48712105e-06, 1.00579199e-05,\n",
       "        1.06630613e-05, 1.13046114e-05, 1.19847608e-05, 1.27058318e-05,\n",
       "        1.34702865e-05, 1.42807352e-05]),\n",
       " 'OCS': array([9.69366836e-06, 1.19436138e-05, 1.47157821e-05, 1.81313834e-05,\n",
       "        2.23397617e-05, 2.75249242e-05, 3.39135869e-05, 4.17850880e-05,\n",
       "        5.14836010e-05, 6.34331839e-05, 7.81563205e-05, 9.62967655e-05,\n",
       "        1.18647692e-04, 1.46186372e-04, 1.80116909e-04, 2.21922880e-04,\n",
       "        2.73432211e-04, 3.36897097e-04, 4.15092478e-04, 5.11437370e-04,\n",
       "        6.30144359e-04, 7.76403792e-04, 9.56610718e-04, 1.17864451e-03,\n",
       "        1.45221337e-03, 1.39410020e-03, 1.04273394e-03, 7.79925342e-04,\n",
       "        5.83354501e-04, 4.36326986e-04, 3.26355995e-04, 2.44101876e-04,\n",
       "        1.82578922e-04, 1.36562091e-04, 1.02143252e-04, 7.63992686e-05,\n",
       "        5.71437480e-05, 4.27413507e-05, 3.19689052e-05, 2.39115256e-05,\n",
       "        1.78849119e-05, 1.33772341e-05, 1.00056625e-05, 7.48385509e-06,\n",
       "        5.59763905e-06, 4.18682117e-06, 3.13158304e-06, 2.34230505e-06,\n",
       "        1.75195511e-06, 1.31039581e-06]),\n",
       " 'CS2': array([3.58934535e-04, 4.93381955e-04, 6.78189836e-04, 9.32221879e-04,\n",
       "        1.28140763e-03, 1.76138917e-03, 2.42115914e-03, 3.32806156e-03,\n",
       "        4.57466573e-03, 6.28821498e-03, 8.64361463e-03, 1.18812849e-02,\n",
       "        1.63317012e-02, 2.24491262e-02, 3.08579773e-02, 4.24165625e-02,\n",
       "        5.83046893e-02, 8.01440896e-02, 1.10163954e-01, 1.51428468e-01,\n",
       "        2.08149583e-01, 2.86116932e-01, 3.93288796e-01, 5.40604417e-01,\n",
       "        7.43100587e-01, 7.26885264e-01, 5.05981187e-01, 3.52210967e-01,\n",
       "        2.45172288e-01, 1.70663200e-01, 1.18797798e-01, 8.26945513e-02,\n",
       "        5.75632625e-02, 4.00694983e-02, 2.78921769e-02, 1.94156044e-02,\n",
       "        1.35151049e-02, 9.40779674e-03, 6.54872013e-03, 4.55853124e-03,\n",
       "        3.17317074e-03, 2.20882824e-03, 1.53755426e-03, 1.07028381e-03,\n",
       "        7.45019193e-04, 5.18604125e-04, 3.60997730e-04, 2.51288710e-04,\n",
       "        1.74920811e-04, 1.21761499e-04]),\n",
       " 'DMS': array([3.88000919e-01, 2.60015762e-01, 1.74247516e-01, 1.16770601e-01,\n",
       "        7.82528995e-02, 5.24405646e-02, 3.51426316e-02, 2.35505580e-02,\n",
       "        1.57822210e-02, 1.05763312e-02, 7.08764511e-03, 4.74972958e-03,\n",
       "        3.18299389e-03, 2.13305830e-03, 1.42945223e-03, 9.57936162e-04,\n",
       "        6.41953379e-04, 4.30200004e-04, 2.88295146e-04, 1.93198723e-04,\n",
       "        1.29470604e-04, 8.67637058e-05, 5.81440145e-05, 3.89647537e-05,\n",
       "        2.61119230e-05, 1.99858503e-05, 1.74712210e-05, 1.52729835e-05,\n",
       "        1.33513294e-05, 1.16714587e-05, 1.02029501e-05, 8.91921001e-06,\n",
       "        7.79699071e-06, 6.81596958e-06, 5.95838100e-06, 5.20869463e-06,\n",
       "        4.55333416e-06, 3.98043146e-06, 3.47961166e-06, 3.04180524e-06,\n",
       "        2.65908384e-06, 2.32451663e-06, 2.03204482e-06, 1.77637197e-06,\n",
       "        1.55286799e-06, 1.35748539e-06, 1.18668592e-06, 1.03737653e-06,\n",
       "        9.06853313e-07, 7.92752592e-07]),\n",
       " 'C2H6': array([1.20713892e-01, 6.86361613e-02, 3.90255219e-02, 2.21893435e-02,\n",
       "        1.26165377e-02, 7.17357961e-03, 4.07879292e-03, 2.31914226e-03,\n",
       "        1.31863052e-03, 7.49754116e-04, 4.26299274e-04, 2.42387560e-04,\n",
       "        1.37818037e-04, 7.83613293e-05, 4.45551109e-05, 2.53333873e-05,\n",
       "        1.44041952e-05, 8.19001564e-06, 4.65672364e-06, 2.64774526e-06,\n",
       "        1.50546940e-06, 8.55987982e-07, 4.86702303e-07, 2.76731843e-07,\n",
       "        1.57345697e-07, 1.44764057e-07, 2.15514634e-07, 3.20843158e-07,\n",
       "        4.77648921e-07, 7.11090406e-07, 1.05862181e-06, 1.57600233e-06,\n",
       "        2.34624238e-06, 3.49292204e-06, 5.20001877e-06, 7.74142534e-06,\n",
       "        1.15248942e-05, 1.71574589e-05, 2.55428283e-05, 3.80263817e-05,\n",
       "        5.66110254e-05, 8.42785470e-05, 1.25468024e-04, 1.86788045e-04,\n",
       "        2.78077016e-04, 4.13981671e-04, 6.16307044e-04, 9.17514951e-04,\n",
       "        1.36593228e-03, 2.03350473e-03]),\n",
       " 'C2H4': array([5.28088534e-05, 5.45712256e-05, 5.63924130e-05, 5.82743781e-05,\n",
       "        6.02191495e-05, 6.22288231e-05, 6.43055649e-05, 6.64516131e-05,\n",
       "        6.86692806e-05, 7.09609576e-05, 7.33291140e-05, 7.57763021e-05,\n",
       "        7.83051593e-05, 8.09184113e-05, 8.36188745e-05, 8.64094593e-05,\n",
       "        8.92931733e-05, 9.22731246e-05, 9.53525249e-05, 9.85346929e-05,\n",
       "        1.01823058e-04, 1.05221165e-04, 1.08732676e-04, 1.12361376e-04,\n",
       "        1.16111174e-04, 1.19314856e-04, 1.21921013e-04, 1.24584095e-04,\n",
       "        1.27305346e-04, 1.30086037e-04, 1.32927465e-04, 1.35830958e-04,\n",
       "        1.38797871e-04, 1.41829589e-04, 1.44927528e-04, 1.48093134e-04,\n",
       "        1.51327885e-04, 1.54633293e-04, 1.58010899e-04, 1.61462281e-04,\n",
       "        1.64989051e-04, 1.68592855e-04, 1.72275375e-04, 1.76038332e-04,\n",
       "        1.79883482e-04, 1.83812620e-04, 1.87827581e-04, 1.91930239e-04,\n",
       "        1.96122511e-04, 2.00406353e-04]),\n",
       " 'He': array([0.17484846, 0.17258209, 0.17034509, 0.16813709, 0.16595771,\n",
       "        0.16380658, 0.16168333, 0.15958761, 0.15751904, 0.15547729,\n",
       "        0.15346201, 0.15147285, 0.14950947, 0.14757154, 0.14565873,\n",
       "        0.14377071, 0.14190716, 0.14006778, 0.13825223, 0.13646021,\n",
       "        0.13469143, 0.13294557, 0.13122234, 0.12952144, 0.1278426 ,\n",
       "        0.1316717 , 0.14151166, 0.15208698, 0.1634526 , 0.17566759,\n",
       "        0.18879541, 0.20290429, 0.21806754, 0.23436396, 0.25187823,\n",
       "        0.27070135, 0.29093115, 0.31267274, 0.33603911, 0.36115167,\n",
       "        0.38814091, 0.41714709, 0.44832094, 0.48182444, 0.51783168,\n",
       "        0.55652979, 0.59811985, 0.64281798, 0.69085645, 0.74248488]),\n",
       " 'MMW': array([3.4337752 , 3.47886802, 3.524553  , 3.57083792, 3.61773066,\n",
       "        3.66523921, 3.71337164, 3.76213616, 3.81154105, 3.86159474,\n",
       "        3.91230575, 3.96368269, 4.01573433, 4.06846951, 4.12189722,\n",
       "        4.17602655, 4.23086672, 4.28642705, 4.34271701, 4.39974618,\n",
       "        4.45752426, 4.51606109, 4.57536664, 4.63545099, 4.69632438,\n",
       "        4.55975211, 4.2426913 , 3.94767721, 3.67317682, 3.41776373,\n",
       "        3.18011069, 2.95898278, 2.75323092, 2.56178595, 2.38365303,\n",
       "        2.21790653, 2.06368516, 1.92018752, 1.78666793, 1.66243259,\n",
       "        1.5468359 , 1.4392772 , 1.33919755, 1.2460769 , 1.15943137,\n",
       "        1.07881071, 1.00379597, 0.93399736, 0.86905217, 0.80862293]),\n",
       " 'H2': array([0.        , 0.36086589, 0.55569238, 0.66557331, 0.73014182,\n",
       "        0.76947953, 0.79415867, 0.80995197, 0.82010383, 0.82645966,\n",
       "        0.83004433, 0.83136385, 0.83056027, 0.82748231, 0.82170156,\n",
       "        0.81248718, 0.79874238, 0.77889928, 0.75076316, 0.71129124,\n",
       "        0.65628397, 0.57995769, 0.47435524, 0.32853464, 0.12745287,\n",
       "        0.13990036, 0.35131643, 0.49477415, 0.59064324, 0.65308333,\n",
       "        0.69192933, 0.71400387, 0.72403075, 0.72527068, 0.71996368,\n",
       "        0.7096368 , 0.69531799, 0.67768437, 0.65716435, 0.63400616,\n",
       "        0.60832029, 0.58009659, 0.54918747, 0.51522927, 0.47743018,\n",
       "        0.43405312, 0.381186  , 0.30983802, 0.19909595, 0.        ])}"
      ]
     },
     "execution_count": 12,
     "metadata": {},
     "output_type": "execute_result"
    }
   ],
   "source": [
    "model_object.mass_fractions"
   ]
  },
  {
   "cell_type": "code",
   "execution_count": null,
   "metadata": {},
   "outputs": [],
   "source": [
    "np.ones()"
   ]
  },
  {
   "cell_type": "code",
   "execution_count": null,
   "metadata": {},
   "outputs": [
    {
     "name": "stdout",
     "output_type": "stream",
     "text": [
      "\n",
      " ------ Sorg1 - Nlive: 200 - ev: 0.5 ------- \n",
      "\n",
      "\n",
      " ----------------- Starting main retrieval. ----------------- \n",
      "\n",
      "Invalid mass fractions\n",
      "Invalid mass fractions\n",
      "Invalid mass fractions\n",
      "Invalid mass fractions\n",
      "Invalid mass fractions\n",
      "Invalid mass fractions\n",
      "Invalid mass fractions\n",
      "Invalid mass fractions\n",
      "Invalid mass fractions\n"
     ]
    },
    {
     "name": "stderr",
     "output_type": "stream",
     "text": [
      "Exception ignored on calling ctypes callback function: <function run.<locals>.loglike at 0x7fe53f016a60>\n",
      "Traceback (most recent call last):\n",
      "  File \"/home/natalie/.local/lib/python3.8/site-packages/pymultinest/run.py\", line 228, in loglike\n",
      "    return LogLikelihood(cube, ndim, nparams)\n",
      "  File \"/home/natalie/Desktop/files/uni/PhD/LIFE/LIFE_retrieval/LIFE_retrieval/retrieval.py\", line 105, in PMN_lnL\n",
      "    self.model_flux=self.model_object.make_spectrum()\n",
      "  File \"/home/natalie/Desktop/files/uni/PhD/LIFE/LIFE_retrieval/LIFE_retrieval/pRT_model.py\", line 229, in make_spectrum\n",
      "    \n",
      "  File \"/home/natalie/.local/lib/python3.8/site-packages/petitRADTRANS/radtrans.py\", line 1378, in calc_flux\n",
      "    self.calc_RT(contribution)\n",
      "  File \"/home/natalie/.local/lib/python3.8/site-packages/petitRADTRANS/radtrans.py\", line 1117, in calc_RT\n",
      "    self.flux, self.contr_em = fs.flux_ck(self.freq,\n",
      "KeyboardInterrupt: \n"
     ]
    }
   ],
   "source": [
    "retrieval.run_retrieval()"
   ]
  },
  {
   "cell_type": "code",
   "execution_count": 4,
   "metadata": {},
   "outputs": [
    {
     "data": {
      "text/plain": [
       "[<matplotlib.lines.Line2D at 0x7fcfdadd4d90>]"
      ]
     },
     "execution_count": 4,
     "metadata": {},
     "output_type": "execute_result"
    },
    {
     "data": {
      "image/png": "[encoded data removed]",
      "text/plain": [
       "<Figure size 432x288 with 1 Axes>"
      ]
     },
     "metadata": {
      "needs_background": "light"
     },
     "output_type": "display_data"
    }
   ],
   "source": [
    "from pRT_model import pRT_spectrum\n",
    "import matplotlib.pyplot as plt\n",
    "model_object=pRT_spectrum(retrieval)\n",
    "model_flux=model_object.make_spectrum()\n",
    "plt.plot(model_flux)"
   ]
  },
  {
   "cell_type": "code",
   "execution_count": 5,
   "metadata": {},
   "outputs": [
    {
     "data": {
      "text/plain": [
       "array([2.61810656, 2.70035824, 2.78519398, 2.87269496, 2.96294491,\n",
       "       3.0560302 , 3.1520399 , 3.25106588, 3.35320291, 3.45854873,\n",
       "       3.56720415, 3.67927313, 3.79486292, 3.91408414, 4.03705087,\n",
       "       4.16388079, 4.29469525, 4.42961944, 4.56878247, 4.71231751,\n",
       "       4.86036192, 5.01305736, 5.17054996, 5.33299042, 5.50053418,\n",
       "       5.5140467 , 5.37238985, 5.23437219, 5.09990023, 4.96888287,\n",
       "       4.84123138, 4.71685927, 4.59568231, 4.47761841, 4.36258759,\n",
       "       4.25051193, 4.14131551, 4.03492437, 3.93126644, 3.8302715 ,\n",
       "       3.73187113, 3.63599869, 3.54258923, 3.45157948, 3.36290778,\n",
       "       3.27651408, 3.19233984, 3.11032806, 3.03042317, 2.95257105])"
      ]
     },
     "execution_count": 5,
     "metadata": {},
     "output_type": "execute_result"
    },
    {
     "data": {
      "image/png": "[encoded data removed]",
      "text/plain": [
       "<Figure size 432x288 with 1 Axes>"
      ]
     },
     "metadata": {
      "needs_background": "light"
     },
     "output_type": "display_data"
    }
   ],
   "source": [
    "plt.plot(model_object.mass_fractions['DMS'],model_object.pressure)\n",
    "plt.yscale('log')\n",
    "plt.xscale('log')\n",
    "model_object.mass_fractions['MMW']"
   ]
  },
  {
   "cell_type": "code",
   "execution_count": 13,
   "metadata": {},
   "outputs": [
    {
     "data": {
      "text/plain": [
       "{'CO_12_HITEMP': array([3.95674282e-11, 3.46815027e-06, 6.93626098e-06, 1.04043717e-05,\n",
       "        1.38724824e-05, 1.73405931e-05, 2.08087038e-05, 2.42768145e-05,\n",
       "        2.77449252e-05, 3.12130359e-05, 3.46811466e-05, 3.81492573e-05,\n",
       "        4.16173680e-05, 4.50854787e-05, 4.85535894e-05, 5.20217001e-05,\n",
       "        5.54898108e-05, 5.89579215e-05, 6.24260322e-05, 6.58941429e-05,\n",
       "        6.93622536e-05, 7.28303643e-05, 7.62984751e-05, 7.97665858e-05,\n",
       "        8.32346965e-05, 8.32387533e-05, 7.97787562e-05, 7.63187592e-05,\n",
       "        7.28587621e-05, 6.93987650e-05, 6.59387680e-05, 6.24787709e-05,\n",
       "        5.90187739e-05, 5.55587768e-05, 5.20987798e-05, 4.86387827e-05,\n",
       "        4.51787856e-05, 4.17187886e-05, 3.82587915e-05, 3.47987945e-05,\n",
       "        3.13387974e-05, 2.78788003e-05, 2.44188033e-05, 2.09588062e-05,\n",
       "        1.74988092e-05, 1.40388121e-05, 1.05788150e-05, 7.11881799e-06,\n",
       "        3.65882093e-06, 1.98823869e-07]),\n",
       " 'H2O_Exomol': array([1.53409339e-02, 1.47147733e-02, 1.40886127e-02, 1.34624522e-02,\n",
       "        1.28362916e-02, 1.22101310e-02, 1.15839705e-02, 1.09578099e-02,\n",
       "        1.03316493e-02, 9.70548877e-03, 9.07932821e-03, 8.45316764e-03,\n",
       "        7.82700708e-03, 7.20084651e-03, 6.57468595e-03, 5.94852538e-03,\n",
       "        5.32236482e-03, 4.69620425e-03, 4.07004369e-03, 3.44388312e-03,\n",
       "        2.81772256e-03, 2.19156199e-03, 1.56540143e-03, 9.39240860e-04,\n",
       "        3.13080294e-04, 1.00044747e-06, 3.00131897e-06, 5.00219048e-06,\n",
       "        7.00306199e-06, 9.00393349e-06, 1.10048050e-05, 1.30056765e-05,\n",
       "        1.50065480e-05, 1.70074195e-05, 1.90082910e-05, 2.10091625e-05,\n",
       "        2.30100340e-05, 2.50109055e-05, 2.70117771e-05, 2.90126486e-05,\n",
       "        3.10135201e-05, 3.30143916e-05, 3.50152631e-05, 3.70161346e-05,\n",
       "        3.90170061e-05, 4.10178776e-05, 4.30187491e-05, 4.50196206e-05,\n",
       "        4.70204921e-05, 4.90213636e-05]),\n",
       " 'CH4': array([4.73681099e-04, 4.54351261e-04, 4.35021422e-04, 4.15691584e-04,\n",
       "        3.96361746e-04, 3.77031907e-04, 3.57702069e-04, 3.38372230e-04,\n",
       "        3.19042392e-04, 2.99712554e-04, 2.80382715e-04, 2.61052877e-04,\n",
       "        2.41723038e-04, 2.22393200e-04, 2.03063362e-04, 1.83733523e-04,\n",
       "        1.64403685e-04, 1.45073846e-04, 1.25744008e-04, 1.06414169e-04,\n",
       "        8.70843311e-05, 6.77544927e-05, 4.84246543e-05, 2.90948159e-05,\n",
       "        9.76497746e-06, 1.32661781e-07, 1.97868837e-07, 2.63075892e-07,\n",
       "        3.28282948e-07, 3.93490003e-07, 4.58697059e-07, 5.23904115e-07,\n",
       "        5.89111170e-07, 6.54318226e-07, 7.19525281e-07, 7.84732337e-07,\n",
       "        8.49939393e-07, 9.15146448e-07, 9.80353504e-07, 1.04556056e-06,\n",
       "        1.11076762e-06, 1.17597467e-06, 1.24118173e-06, 1.30638878e-06,\n",
       "        1.37159584e-06, 1.43680289e-06, 1.50200995e-06, 1.56721700e-06,\n",
       "        1.63242406e-06, 1.69763112e-06]),\n",
       " 'NH3': array([4.11724657e-02, 3.94919569e-02, 3.78114482e-02, 3.61309394e-02,\n",
       "        3.44504307e-02, 3.27699219e-02, 3.10894132e-02, 2.94089044e-02,\n",
       "        2.77283957e-02, 2.60478869e-02, 2.43673782e-02, 2.26868695e-02,\n",
       "        2.10063607e-02, 1.93258520e-02, 1.76453432e-02, 1.59648345e-02,\n",
       "        1.42843257e-02, 1.26038170e-02, 1.09233082e-02, 9.24279949e-03,\n",
       "        7.56229075e-03, 5.88178200e-03, 4.20127325e-03, 2.52076451e-03,\n",
       "        8.40255763e-04, 1.36249083e-09, 1.30589170e-09, 1.24929257e-09,\n",
       "        1.19269345e-09, 1.13609432e-09, 1.07949519e-09, 1.02289606e-09,\n",
       "        9.66296931e-10, 9.09697802e-10, 8.53098674e-10, 7.96499545e-10,\n",
       "        7.39900416e-10, 6.83301288e-10, 6.26702159e-10, 5.70103030e-10,\n",
       "        5.13503901e-10, 4.56904773e-10, 4.00305644e-10, 3.43706515e-10,\n",
       "        2.87107387e-10, 2.30508258e-10, 1.73909129e-10, 1.17310001e-10,\n",
       "        6.07108718e-11, 4.11174310e-12]),\n",
       " 'HCN': array([5.11267561e-01, 4.90399497e-01, 4.69531434e-01, 4.48663370e-01,\n",
       "        4.27795306e-01, 4.06927242e-01, 3.86059179e-01, 3.65191115e-01,\n",
       "        3.44323051e-01, 3.23454988e-01, 3.02586924e-01, 2.81718860e-01,\n",
       "        2.60850796e-01, 2.39982733e-01, 2.19114669e-01, 1.98246605e-01,\n",
       "        1.77378542e-01, 1.56510478e-01, 1.35642414e-01, 1.14774351e-01,\n",
       "        9.39062868e-02, 7.30382231e-02, 5.21701594e-02, 3.13020957e-02,\n",
       "        1.04340320e-02, 2.39168252e-10, 4.28031874e-10, 6.16895495e-10,\n",
       "        8.05759116e-10, 9.94622738e-10, 1.18348636e-09, 1.37234998e-09,\n",
       "        1.56121360e-09, 1.75007722e-09, 1.93894084e-09, 2.12780447e-09,\n",
       "        2.31666809e-09, 2.50553171e-09, 2.69439533e-09, 2.88325895e-09,\n",
       "        3.07212257e-09, 3.26098619e-09, 3.44984982e-09, 3.63871344e-09,\n",
       "        3.82757706e-09, 4.01644068e-09, 4.20530430e-09, 4.39416792e-09,\n",
       "        4.58303154e-09, 4.77189516e-09]),\n",
       " 'CO2': array([1.08167771e-09, 7.80144688e-03, 1.56028927e-02, 2.34043385e-02,\n",
       "        3.12057843e-02, 3.90072301e-02, 4.68086759e-02, 5.46101216e-02,\n",
       "        6.24115674e-02, 7.02130132e-02, 7.80144590e-02, 8.58159048e-02,\n",
       "        9.36173506e-02, 1.01418796e-01, 1.09220242e-01, 1.17021688e-01,\n",
       "        1.24823134e-01, 1.32624580e-01, 1.40426025e-01, 1.48227471e-01,\n",
       "        1.56028917e-01, 1.63830363e-01, 1.71631809e-01, 1.79433254e-01,\n",
       "        1.87234700e-01, 1.87234700e-01, 1.79433254e-01, 1.71631808e-01,\n",
       "        1.63830363e-01, 1.56028917e-01, 1.48227471e-01, 1.40426025e-01,\n",
       "        1.32624579e-01, 1.24823133e-01, 1.17021688e-01, 1.09220242e-01,\n",
       "        1.01418796e-01, 9.36173501e-02, 8.58159042e-02, 7.80144584e-02,\n",
       "        7.02130126e-02, 6.24115667e-02, 5.46101209e-02, 4.68086750e-02,\n",
       "        3.90072292e-02, 3.12057834e-02, 2.34043375e-02, 1.56028917e-02,\n",
       "        7.80144585e-03, 7.43182608e-12]),\n",
       " 'C2H2': array([8.71108776e-06, 8.35553456e-06, 7.99998136e-06, 7.64442816e-06,\n",
       "        7.28887496e-06, 6.93332176e-06, 6.57776856e-06, 6.22221536e-06,\n",
       "        5.86666216e-06, 5.51110896e-06, 5.15555577e-06, 4.80000257e-06,\n",
       "        4.44444937e-06, 4.08889617e-06, 3.73334297e-06, 3.37778977e-06,\n",
       "        3.02223657e-06, 2.66668337e-06, 2.31113017e-06, 1.95557697e-06,\n",
       "        1.60002377e-06, 1.24447057e-06, 8.88917376e-07, 5.33364177e-07,\n",
       "        1.77810977e-07, 1.89478125e-09, 5.61558804e-09, 9.33639482e-09,\n",
       "        1.30572016e-08, 1.67780084e-08, 2.04988152e-08, 2.42196220e-08,\n",
       "        2.79404287e-08, 3.16612355e-08, 3.53820423e-08, 3.91028491e-08,\n",
       "        4.28236559e-08, 4.65444627e-08, 5.02652694e-08, 5.39860762e-08,\n",
       "        5.77068830e-08, 6.14276898e-08, 6.51484966e-08, 6.88693034e-08,\n",
       "        7.25901101e-08, 7.63109169e-08, 8.00317237e-08, 8.37525305e-08,\n",
       "        8.74733373e-08, 9.11941441e-08]),\n",
       " 'H2S': array([2.10169365e-02, 2.01591029e-02, 1.93012693e-02, 1.84434357e-02,\n",
       "        1.75856021e-02, 1.67277685e-02, 1.58699349e-02, 1.50121013e-02,\n",
       "        1.41542676e-02, 1.32964340e-02, 1.24386004e-02, 1.15807668e-02,\n",
       "        1.07229332e-02, 9.86509959e-03, 9.00726598e-03, 8.14943237e-03,\n",
       "        7.29159876e-03, 6.43376515e-03, 5.57593154e-03, 4.71809793e-03,\n",
       "        3.86026432e-03, 3.00243071e-03, 2.14459710e-03, 1.28676349e-03,\n",
       "        4.28929875e-04, 9.72882943e-07, 2.89250974e-06, 4.81213654e-06,\n",
       "        6.73176334e-06, 8.65139014e-06, 1.05710169e-05, 1.24906437e-05,\n",
       "        1.44102705e-05, 1.63298973e-05, 1.82495241e-05, 2.01691509e-05,\n",
       "        2.20887777e-05, 2.40084045e-05, 2.59280313e-05, 2.78476581e-05,\n",
       "        2.97672849e-05, 3.16869117e-05, 3.36065385e-05, 3.55261653e-05,\n",
       "        3.74457921e-05, 3.93654189e-05, 4.12850457e-05, 4.32046725e-05,\n",
       "        4.51242993e-05, 4.70439261e-05]),\n",
       " 'CH3Cl': array([1.89387940e-05, 1.89592915e-05, 1.89797891e-05, 1.90002867e-05,\n",
       "        1.90207842e-05, 1.90412818e-05, 1.90617794e-05, 1.90822769e-05,\n",
       "        1.91027745e-05, 1.91232721e-05, 1.91437697e-05, 1.91642672e-05,\n",
       "        1.91847648e-05, 1.92052624e-05, 1.92257599e-05, 1.92462575e-05,\n",
       "        1.92667551e-05, 1.92872527e-05, 1.93077502e-05, 1.93282478e-05,\n",
       "        1.93487454e-05, 1.93692429e-05, 1.93897405e-05, 1.94102381e-05,\n",
       "        1.94307356e-05, 5.83275723e-03, 1.74593897e-02, 2.90860222e-02,\n",
       "        4.07126547e-02, 5.23392872e-02, 6.39659196e-02, 7.55925521e-02,\n",
       "        8.72191846e-02, 9.88458171e-02, 1.10472450e-01, 1.22099082e-01,\n",
       "        1.33725715e-01, 1.45352347e-01, 1.56978980e-01, 1.68605612e-01,\n",
       "        1.80232244e-01, 1.91858877e-01, 2.03485509e-01, 2.15112142e-01,\n",
       "        2.26738774e-01, 2.38365407e-01, 2.49992039e-01, 2.61618672e-01,\n",
       "        2.73245304e-01, 2.84871937e-01]),\n",
       " 'SO2': array([0.00064858, 0.00085756, 0.00106655, 0.00127553, 0.00148451,\n",
       "        0.00169349, 0.00190247, 0.00211146, 0.00232044, 0.00252942,\n",
       "        0.0027384 , 0.00294738, 0.00315637, 0.00336535, 0.00357433,\n",
       "        0.00378331, 0.0039923 , 0.00420128, 0.00441026, 0.00461924,\n",
       "        0.00482822, 0.00503721, 0.00524619, 0.00545517, 0.00566415,\n",
       "        0.00645131, 0.00781664, 0.00918197, 0.0105473 , 0.01191263,\n",
       "        0.01327797, 0.0146433 , 0.01600863, 0.01737396, 0.01873929,\n",
       "        0.02010462, 0.02146996, 0.02283529, 0.02420062, 0.02556595,\n",
       "        0.02693128, 0.02829661, 0.02966194, 0.03102728, 0.03239261,\n",
       "        0.03375794, 0.03512327, 0.0364886 , 0.03785393, 0.03921926]),\n",
       " 'OCS': array([1.19520299e-07, 7.65763361e-03, 1.53151477e-02, 2.29726618e-02,\n",
       "        3.06301759e-02, 3.82876900e-02, 4.59452040e-02, 5.36027181e-02,\n",
       "        6.12602322e-02, 6.89177463e-02, 7.65752604e-02, 8.42327745e-02,\n",
       "        9.18902886e-02, 9.95478027e-02, 1.07205317e-01, 1.14862831e-01,\n",
       "        1.22520345e-01, 1.30177859e-01, 1.37835373e-01, 1.45492887e-01,\n",
       "        1.53150401e-01, 1.60807915e-01, 1.68465429e-01, 1.76122944e-01,\n",
       "        1.83780458e-01, 1.83780461e-01, 1.76122952e-01, 1.68465444e-01,\n",
       "        1.60807936e-01, 1.53150428e-01, 1.45492919e-01, 1.37835411e-01,\n",
       "        1.30177903e-01, 1.22520395e-01, 1.14862887e-01, 1.07205378e-01,\n",
       "        9.95478701e-02, 9.18903619e-02, 8.42328537e-02, 7.65753455e-02,\n",
       "        6.89178373e-02, 6.12603290e-02, 5.36028208e-02, 4.59453126e-02,\n",
       "        3.82878044e-02, 3.06302962e-02, 2.29727879e-02, 1.53152797e-02,\n",
       "        7.65777150e-03, 2.63284270e-07]),\n",
       " 'CS2': array([6.28794586e-06, 6.12883997e-06, 5.96973408e-06, 5.81062819e-06,\n",
       "        5.65152230e-06, 5.49241641e-06, 5.33331052e-06, 5.17420463e-06,\n",
       "        5.01509874e-06, 4.85599285e-06, 4.69688696e-06, 4.53778107e-06,\n",
       "        4.37867518e-06, 4.21956929e-06, 4.06046340e-06, 3.90135751e-06,\n",
       "        3.74225162e-06, 3.58314573e-06, 3.42403984e-06, 3.26493395e-06,\n",
       "        3.10582805e-06, 2.94672216e-06, 2.78761627e-06, 2.62851038e-06,\n",
       "        2.46940449e-06, 2.37005032e-06, 2.33044788e-06, 2.29084543e-06,\n",
       "        2.25124298e-06, 2.21164053e-06, 2.17203808e-06, 2.13243563e-06,\n",
       "        2.09283318e-06, 2.05323073e-06, 2.01362828e-06, 1.97402584e-06,\n",
       "        1.93442339e-06, 1.89482094e-06, 1.85521849e-06, 1.81561604e-06,\n",
       "        1.77601359e-06, 1.73641114e-06, 1.69680869e-06, 1.65720624e-06,\n",
       "        1.61760380e-06, 1.57800135e-06, 1.53839890e-06, 1.49879645e-06,\n",
       "        1.45919400e-06, 1.41959155e-06]),\n",
       " 'DMS': array([1.23523460e-11, 1.46657099e-02, 2.93314198e-02, 4.39971297e-02,\n",
       "        5.86628396e-02, 7.33285495e-02, 8.79942594e-02, 1.02659969e-01,\n",
       "        1.17325679e-01, 1.31991389e-01, 1.46657099e-01, 1.61322809e-01,\n",
       "        1.75988519e-01, 1.90654229e-01, 2.05319939e-01, 2.19985649e-01,\n",
       "        2.34651358e-01, 2.49317068e-01, 2.63982778e-01, 2.78648488e-01,\n",
       "        2.93314198e-01, 3.07979908e-01, 3.22645618e-01, 3.37311328e-01,\n",
       "        3.51977038e-01, 3.51977056e-01, 3.37311384e-01, 3.22645711e-01,\n",
       "        3.07980039e-01, 2.93314366e-01, 2.78648694e-01, 2.63983021e-01,\n",
       "        2.49317349e-01, 2.34651676e-01, 2.19986004e-01, 2.05320331e-01,\n",
       "        1.90654659e-01, 1.75988986e-01, 1.61323314e-01, 1.46657641e-01,\n",
       "        1.31991969e-01, 1.17326296e-01, 1.02660624e-01, 8.79949510e-02,\n",
       "        7.33292785e-02, 5.86636060e-02, 4.39979335e-02, 2.93322610e-02,\n",
       "        1.46665885e-02, 9.15940945e-07]),\n",
       " 'C2H6': array([5.74485964e-04, 5.51059952e-04, 5.27633939e-04, 5.04207927e-04,\n",
       "        4.80781915e-04, 4.57355903e-04, 4.33929890e-04, 4.10503878e-04,\n",
       "        3.87077866e-04, 3.63651853e-04, 3.40225841e-04, 3.16799829e-04,\n",
       "        2.93373817e-04, 2.69947804e-04, 2.46521792e-04, 2.23095780e-04,\n",
       "        1.99669767e-04, 1.76243755e-04, 1.52817743e-04, 1.29391731e-04,\n",
       "        1.05965718e-04, 8.25397060e-05, 5.91136937e-05, 3.56876814e-05,\n",
       "        1.22616691e-05, 5.38200667e-07, 5.17276085e-07, 4.96351504e-07,\n",
       "        4.75426922e-07, 4.54502340e-07, 4.33577758e-07, 4.12653176e-07,\n",
       "        3.91728594e-07, 3.70804012e-07, 3.49879431e-07, 3.28954849e-07,\n",
       "        3.08030267e-07, 2.87105685e-07, 2.66181103e-07, 2.45256521e-07,\n",
       "        2.24331939e-07, 2.03407358e-07, 1.82482776e-07, 1.61558194e-07,\n",
       "        1.40633612e-07, 1.19709030e-07, 9.87844483e-08, 7.78598664e-08,\n",
       "        5.69352845e-08, 3.60107027e-08]),\n",
       " 'C2H4': array([1.36282561e-05, 1.30731849e-05, 1.25181138e-05, 1.19630426e-05,\n",
       "        1.14079714e-05, 1.08529002e-05, 1.02978290e-05, 9.74275786e-06,\n",
       "        9.18768668e-06, 8.63261550e-06, 8.07754432e-06, 7.52247314e-06,\n",
       "        6.96740196e-06, 6.41233078e-06, 5.85725960e-06, 5.30218842e-06,\n",
       "        4.74711724e-06, 4.19204606e-06, 3.63697489e-06, 3.08190371e-06,\n",
       "        2.52683253e-06, 1.97176135e-06, 1.41669017e-06, 8.61618990e-07,\n",
       "        3.06547810e-07, 8.44293715e-03, 2.53287534e-02, 4.22145697e-02,\n",
       "        5.91003860e-02, 7.59862022e-02, 9.28720185e-02, 1.09757835e-01,\n",
       "        1.26643651e-01, 1.43529467e-01, 1.60415284e-01, 1.77301100e-01,\n",
       "        1.94186916e-01, 2.11072732e-01, 2.27958549e-01, 2.44844365e-01,\n",
       "        2.61730181e-01, 2.78615998e-01, 2.95501814e-01, 3.12387630e-01,\n",
       "        3.29273446e-01, 3.46159263e-01, 3.63045079e-01, 3.79930895e-01,\n",
       "        3.96816711e-01, 4.13702528e-01]),\n",
       " 'He': array([0.11820978, 0.11638189, 0.114554  , 0.11272612, 0.11089823,\n",
       "        0.10907035, 0.10724246, 0.10541457, 0.10358669, 0.1017588 ,\n",
       "        0.09993091, 0.09810303, 0.09627514, 0.09444726, 0.09261937,\n",
       "        0.09079148, 0.0889636 , 0.08713571, 0.08530782, 0.08347994,\n",
       "        0.08165205, 0.07982417, 0.07799628, 0.07616839, 0.07434051,\n",
       "        0.07354034, 0.07376788, 0.07399542, 0.07422297, 0.07445051,\n",
       "        0.07467806, 0.0749056 , 0.07513314, 0.07536069, 0.07558823,\n",
       "        0.07581577, 0.07604332, 0.07627086, 0.07649841, 0.07672595,\n",
       "        0.07695349, 0.07718104, 0.07740858, 0.07763612, 0.07786367,\n",
       "        0.07809121, 0.07831876, 0.0785463 , 0.07877384, 0.07900139]),\n",
       " 'H2': array([0.29124789, 0.28681503, 0.28238217, 0.2779493 , 0.27351644,\n",
       "        0.26908358, 0.26465072, 0.26021786, 0.25578499, 0.25135213,\n",
       "        0.24691927, 0.24248641, 0.23805355, 0.23362068, 0.22918782,\n",
       "        0.22475496, 0.2203221 , 0.21588924, 0.21145637, 0.20702351,\n",
       "        0.20259065, 0.19815779, 0.19372493, 0.18929206, 0.1848592 ,\n",
       "        0.18265219, 0.18267102, 0.18268985, 0.18270869, 0.18272752,\n",
       "        0.18274635, 0.18276519, 0.18278402, 0.18280286, 0.18282169,\n",
       "        0.18284052, 0.18285936, 0.18287819, 0.18289702, 0.18291586,\n",
       "        0.18293469, 0.18295352, 0.18297236, 0.18299119, 0.18301002,\n",
       "        0.18302886, 0.18304769, 0.18306652, 0.18308536, 0.18310419]),\n",
       " 'MMW': array([5.07902407, 5.20546166, 5.33189925, 5.45833685, 5.58477444,\n",
       "        5.71121203, 5.83764962, 5.96408722, 6.09052481, 6.2169624 ,\n",
       "        6.34339999, 6.46983759, 6.59627518, 6.72271277, 6.84915036,\n",
       "        6.97558796, 7.10202555, 7.22846314, 7.35490073, 7.48133833,\n",
       "        7.60777592, 7.73421351, 7.8606511 , 7.9870887 , 8.11352629,\n",
       "        8.16496955, 8.14141848, 8.1178674 , 8.09431633, 8.07076525,\n",
       "        8.04721418, 8.02366311, 8.00011203, 7.97656096, 7.95300989,\n",
       "        7.92945881, 7.90590774, 7.88235667, 7.85880559, 7.83525452,\n",
       "        7.81170345, 7.78815237, 7.7646013 , 7.74105022, 7.71749915,\n",
       "        7.69394808, 7.670397  , 7.64684593, 7.62329486, 7.59974378])}"
      ]
     },
     "execution_count": 13,
     "metadata": {},
     "output_type": "execute_result"
    }
   ],
   "source": [
    "model_object.mass_fractions"
   ]
  },
  {
   "cell_type": "code",
   "execution_count": 6,
   "metadata": {},
   "outputs": [
    {
     "data": {
      "image/png": "[encoded data removed]",
      "text/plain": [
       "<Figure size 432x288 with 1 Axes>"
      ]
     },
     "metadata": {
      "needs_background": "light"
     },
     "output_type": "display_data"
    }
   ],
   "source": [
    "plt.plot(model_object.temperature,model_object.pressure)\n",
    "plt.yscale('log')"
   ]
  },
  {
   "cell_type": "code",
   "execution_count": null,
   "metadata": {},
   "outputs": [],
   "source": [
    "\n"
   ]
  },
  {
   "cell_type": "code",
   "execution_count": 4,
   "metadata": {},
   "outputs": [],
   "source": [
    "import numpy as np\n",
    "import matplotlib.pyplot as plt\n",
    "\n",
    "# weird format???\n",
    "filename='psg_rad_Sorg1X.txt'\n",
    "file1=np.genfromtxt(filename,skip_header=13,skip_footer=1488,delimiter='  ')\n",
    "wl1=file1[:,0]\n",
    "fl1=file1[:,1]\n",
    "flerr1=np.ones_like(fl1)*1e-5\n",
    "file2=np.genfromtxt(filename,skip_header=424,delimiter='  ')\n",
    "wl2=file2[:,0]\n",
    "fl2=file2[:,1]\n",
    "flerr2=file2[:,2]\n",
    "wl=np.append(wl1,wl2)\n",
    "fl=np.append(fl1,fl2)\n",
    "fl/=np.median(fl)\n",
    "flerr=np.append(flerr1,flerr2)\n"
   ]
  },
  {
   "cell_type": "code",
   "execution_count": 1,
   "metadata": {},
   "outputs": [
    {
     "name": "stderr",
     "output_type": "stream",
     "text": [
      "/home/natalie/.local/lib/python3.8/site-packages/petitRADTRANS/radtrans.py:119: FutureWarning: pRT_input_data_path was set by an environment variable. In a future update, the path to the petitRADTRANS input_data will be set within a .ini file that will be automatically generated into the user home directory (OS agnostic), inside a .petitradtrans directory\n",
      "  warnings.warn(f\"pRT_input_data_path was set by an environment variable. In a future update, the path to \"\n"
     ]
    },
    {
     "name": "stdout",
     "output_type": "stream",
     "text": [
      "\n",
      "  Read CIA opacities for H2-H2...\n",
      "  Read CIA opacities for H2-He...\n",
      "Done.\n",
      "\n"
     ]
    },
    {
     "data": {
      "image/png": "[encoded data removed]",
      "text/plain": [
       "<Figure size 600x300 with 1 Axes>"
      ]
     },
     "metadata": {
      "needs_background": "light"
     },
     "output_type": "display_data"
    }
   ],
   "source": [
    "import os\n",
    "import numpy as np\n",
    "os.environ['pRT_input_data_path'] = \"/home/natalie/.local/lib/python3.8/site-packages/petitRADTRANS/input_data_std/input_data\"\n",
    "from petitRADTRANS import Radtrans\n",
    "import matplotlib.pyplot as plt\n",
    "\n",
    "wlen_range=np.array([2,20]) # in microns for pRT\n",
    "atmosphere_object = Radtrans(line_species=['CS2'],\n",
    "                    rayleigh_species = ['H2', 'He'],\n",
    "                    continuum_opacities = ['H2-H2', 'H2-He'],\n",
    "                    wlen_bords_micron=wlen_range, \n",
    "                    mode='c-k')\n",
    "\n",
    "T = np.array([300]).reshape(1)\n",
    "wave_cm, opas = atmosphere_object.get_opa(T)\n",
    "wave_um = wave_cm*1e4 # microns\n",
    "\n",
    "fig,ax=plt.subplots(1,1,figsize=(6,3),dpi=100)\n",
    "spec,=plt.plot(wave_um,opas['CS2'])\n",
    "plt.yscale('log')"
   ]
  },
  {
   "cell_type": "code",
   "execution_count": 13,
   "metadata": {},
   "outputs": [
    {
     "name": "stdout",
     "output_type": "stream",
     "text": [
      "\n",
      "  Read CIA opacities for H2-H2...\n",
      "  Read CIA opacities for H2-He...\n",
      "Done.\n",
      "\n"
     ]
    },
    {
     "data": {
      "image/png": "[encoded data removed]",
      "text/plain": [
       "<Figure size 600x300 with 1 Axes>"
      ]
     },
     "metadata": {
      "needs_background": "light"
     },
     "output_type": "display_data"
    }
   ],
   "source": [
    "import os\n",
    "import numpy as np\n",
    "os.environ['pRT_input_data_path'] = \"/home/natalie/.local/lib/python3.8/site-packages/petitRADTRANS/input_data_std/input_data\"\n",
    "from petitRADTRANS import Radtrans\n",
    "import matplotlib.pyplot as plt\n",
    "\n",
    "wlen_range=np.array([2,20]) # in microns for pRT\n",
    "atmosphere_object = Radtrans(line_species=['C2H6'],\n",
    "                    rayleigh_species = ['H2', 'He'],\n",
    "                    continuum_opacities = ['H2-H2', 'H2-He'],\n",
    "                    wlen_bords_micron=wlen_range, \n",
    "                    mode='c-k')\n",
    "\n",
    "T = np.array([300]).reshape(1)\n",
    "wave_cm, opas = atmosphere_object.get_opa(T)\n",
    "wave_um = wave_cm*1e4 # microns\n",
    "\n",
    "fig,ax=plt.subplots(1,1,figsize=(6,3),dpi=100)\n",
    "spec,=plt.plot(wave_um,opas['C2H6'])\n",
    "plt.yscale('log')"
   ]
  },
  {
   "cell_type": "code",
   "execution_count": null,
   "metadata": {},
   "outputs": [
    {
     "name": "stdout",
     "output_type": "stream",
     "text": [
      "\n",
      "  Read CIA opacities for H2-H2...\n",
      "  Read CIA opacities for H2-He...\n",
      "Done.\n",
      "\n"
     ]
    },
    {
     "data": {
      "image/png": "[encoded data removed]",
      "text/plain": [
       "<Figure size 600x300 with 1 Axes>"
      ]
     },
     "metadata": {
      "needs_background": "light"
     },
     "output_type": "display_data"
    }
   ],
   "source": [
    "import os\n",
    "import numpy as np\n",
    "os.environ['pRT_input_data_path'] = \"/home/natalie/.local/lib/python3.8/site-packages/petitRADTRANS/input_data_std/input_data\"\n",
    "from petitRADTRANS import Radtrans\n",
    "import matplotlib.pyplot as plt\n",
    "\n",
    "wlen_range=np.array([2,20]) # in microns for pRT\n",
    "atmosphere_object = Radtrans(line_species=['DMS'],\n",
    "                    rayleigh_species = ['H2', 'He'],\n",
    "                    continuum_opacities = ['H2-H2', 'H2-He'],\n",
    "                    wlen_bords_micron=wlen_range, \n",
    "                    mode='c-k')\n",
    "\n",
    "T = np.array([300]).reshape(1)\n",
    "wave_cm, opas = atmosphere_object.get_opa(T)\n",
    "wave_um = wave_cm*1e4 # microns\n",
    "\n",
    "fig,ax=plt.subplots(1,1,figsize=(6,3),dpi=100)\n",
    "spec,=plt.plot(wave_um,opas['DMS'])\n",
    "plt.yscale('log')\n"
   ]
  }
 ],
 "metadata": {
  "kernelspec": {
   "display_name": "Python 3",
   "language": "python",
   "name": "python3"
  },
  "language_info": {
   "codemirror_mode": {
    "name": "ipython",
    "version": 3
   },
   "file_extension": ".py",
   "mimetype": "text/x-python",
   "name": "python",
   "nbconvert_exporter": "python",
   "pygments_lexer": "ipython3",
   "version": "3.8.10"
  }
 },
 "nbformat": 4,
 "nbformat_minor": 2
}
